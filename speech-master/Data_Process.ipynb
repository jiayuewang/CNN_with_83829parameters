{
 "cells": [
  {
   "cell_type": "code",
   "execution_count": 5,
   "metadata": {
    "collapsed": true
   },
   "outputs": [],
   "source": [
    "from glob import iglob, glob\n",
    "import os\n",
    "import sys\n",
    "from python_speech_features import mfcc\n",
    "import numpy as np\n",
    "import random\n",
    "import progressbar\n",
    "import librosa\n",
    "\n",
    "def data_split(folder, partition_dict=None, seed=78):\n",
    "    \"\"\"Split VCTK data into train, dev, test sets.\n",
    "        Args:\n",
    "            folder: the folder path to the data (string)\n",
    "            partition_dict: dictionary for train/dev/test split (default 0.8/0.1/0.1)\n",
    "        Returns:\n",
    "            None\n",
    "    \"\"\"\n",
    "    if partition_dict is None:\n",
    "        partition_dict = {'train':0.8, 'dev':0.1, 'test':0.1}\n",
    "    assert sum(partition_dict.values()) == 1\n",
    "    speaker_folders = glob(os.path.join(folder,'wav','*'))\n",
    "    for speaker_folder in speaker_folders:\n",
    "        #print(speaker_folder)\n",
    "        wav_files = glob(os.path.join(speaker_folder, '*.wav' ))\n",
    "        #print(len(wav_files))\n",
    "        random.seed(seed)\n",
    "        random.shuffle(wav_files)\n",
    "        quantities = [(name, round(ratio*len(wav_files))) for (name, ratio) in partition_dict.items()]\n",
    "        for name, quantity in quantities:\n",
    "            #print(quantity)\n",
    "            for _ in range(quantity):\n",
    "                try:\n",
    "                    audio = wav_files.pop()\n",
    "                    new_path_wav = os.path.join(folder, name, 'wav', speaker_folder.split('/')[-1], os.path.basename(audio))\n",
    "                    os.renames(audio, new_path_wav)\n",
    "                    old_path_txt = audio.replace(\"wav\",\"txt\").replace(\"wav\",\"txt\")\n",
    "                    new_path_txt = new_path_wav.replace(\"wav\",\"txt\").replace(\"wav\",\"txt\")\n",
    "                    os.renames(old_path_txt, new_path_txt)\n",
    "                except IndexError as e:\n",
    "                    pass\n",
    "\n",
    "def find_files(directory, pattern='**/*.wav'):\n",
    "    \"\"\"Recursively finds all files matching the pattern.\"\"\"\n",
    "    return sorted(iglob(os.path.join(directory, pattern), recursive=True))\n",
    "\n",
    "def read_audio_from_filename(filename, sample_rate):\n",
    "    \"\"\"Load a wav file and transpose the array.\"\"\"\n",
    "    audio, _ = librosa.load(filename, sr=sample_rate, mono=True)\n",
    "    audio = audio.reshape(-1, 1)\n",
    "    return audio\n",
    "\n",
    "def convert_txt_index(target_txt):\n",
    "    \"\"\"Turn text into index.\"\"\"\n",
    "    original = ' '.join(target_txt.strip().lower().split(' ')).replace('.', '').replace('?', '').replace(',', '').replace(\"'\", '').replace('!', '').replace('-', '').replace('\\t', '').replace(')', '').replace('\"', '')\n",
    "    targets = original.replace(' ', '  ')\n",
    "    targets = targets.split(' ')\n",
    "    # Adding blank label\n",
    "    targets = np.hstack([SPACE_TOKEN if x == '' else list(x) for x in targets])\n",
    "    # Transform char into index\n",
    "    targets = np.asarray([SPACE_INDEX if x == SPACE_TOKEN else ord(x) - FIRST_INDEX\n",
    "                          for x in targets])\n",
    "    return targets, original\n",
    "\n",
    "def return_txt_path(wav_path):\n",
    "    \"\"\"Return the corresponding txt location for VCTK data set.\"\"\"\n",
    "    return wav_path.replace(\"wav\",\"txt\").replace(\"wav\",\"txt\")\n",
    "\n",
    "def find_speaker_ID(wav_path):\n",
    "    \"\"\"Find speaker ID from the path of a wav file.\"\"\"\n",
    "    return wav_path.split('.')[0].split('/')[-1]\n",
    "\n",
    "def pack_data_npz(DIR, input_mfcc, target, speaker_wav_ID, original):\n",
    "    \"\"\"Pickle data into npz files.\"\"\"\n",
    "    np.savez(os.path.join(DIR, speaker_wav_ID),\\\n",
    "             data_in=input_mfcc, target=target, seq_len=np.array([len(input_mfcc)]), original=np.array([original]))\n",
    "\n",
    "def convert_wav_mfcc(file, fs):\n",
    "    \"\"\"Turn raw audio data into MFCC with sample rate=fs.\"\"\"\n",
    "    inputs = mfcc(read_audio_from_filename(file, fs),fs)\n",
    "    return inputs"
   ]
  },
  {
   "cell_type": "code",
   "execution_count": 2,
   "metadata": {
    "collapsed": true
   },
   "outputs": [],
   "source": [
    "#Corpus location\n",
    "Corpus_dir = '/home/jovyan/work/VCTK-Corpus/'"
   ]
  },
  {
   "cell_type": "code",
   "execution_count": null,
   "metadata": {},
   "outputs": [],
   "source": [
    "#Split VCTK data into trian/test/dev set\n",
    "data_split(Corpus_dir)"
   ]
  },
  {
   "cell_type": "code",
   "execution_count": 30,
   "metadata": {},
   "outputs": [
    {
     "name": "stderr",
     "output_type": "stream",
     "text": [
      "100% (34503 of 34503) |###################| Elapsed Time: 1:47:12 Time: 1:47:12\n"
     ]
    },
    {
     "name": "stdout",
     "output_type": "stream",
     "text": [
      "[ -7.51332611e+00  -4.00169070e+00   7.40849740e-01   9.76145029e+00\n",
      "  -1.65544151e+00   1.59567083e+00  -1.26322944e+00  -1.38907894e+00\n",
      "   4.64418496e+00   4.55213115e+00   3.82397182e-01   1.79470392e+00\n",
      "  -2.83868887e+00  -1.21074392e+00  -4.97693218e+00  -1.56840539e-01\n",
      "  -1.03099064e+00   1.28082167e+00  -1.26283074e+00   1.01066514e+00\n",
      "   8.03630297e-02   5.38606156e-01  -8.57827423e-02   3.32506741e-03\n",
      "   1.97867405e-01  -5.21774920e-01   1.38001732e-02  -1.08547029e+00\n",
      "  -2.26743751e-02  -2.90453150e-01   4.93080491e-01   1.72272966e-01\n",
      "   8.09385140e-01  -5.41125582e-01   2.79285963e-01  -6.73249785e-01\n",
      "  -5.44239050e-04  -9.24394111e-02   3.01032922e-02]\n",
      "[  1.84350572e+01   3.27742824e+02   4.52100067e+02   2.59120249e+02\n",
      "   4.55738787e+02   4.61610212e+02   4.11192739e+02   4.66312878e+02\n",
      "   3.13548502e+02   2.97562939e+02   2.33614791e+02   2.50528736e+02\n",
      "   1.98591050e+02   1.58439708e+02   1.36510094e+02   1.01707235e+02\n",
      "   6.63688379e+01   4.50270724e+01   3.17288357e+01   1.79558614e+01\n",
      "   9.12346497e+00   3.63863947e+00   5.11530227e-01   1.40963994e-01\n",
      "   1.89119190e+00   5.03945805e+00   9.23834328e+00   1.40325729e+01\n",
      "   1.74090047e+01   2.08468517e+01   2.33980224e+01   2.49518520e+01\n",
      "   2.52666383e+01   2.28839484e+01   1.88968811e+01   1.64669444e+01\n",
      "   1.48912987e+01   1.15086068e+01   8.58545142e+00]\n",
      "[  4.29360655  18.10366881  21.26264487  16.09721247  21.34803941\n",
      "  21.48511605  20.27788793  21.59427883  17.7073008   17.25001272\n",
      "  15.28446241  15.82809957  14.09223369  12.58728358  11.68375343\n",
      "  10.08500048   8.14670718   6.71022149   5.63283549   4.23743571\n",
      "   3.0205074    1.90752181   0.71521341   0.37545172   1.37520613\n",
      "   2.24487373   3.03946431   3.7460076    4.17240994   4.56583527\n",
      "   4.83715023   4.99518288   5.02659311   4.78371701   4.3470543\n",
      "   4.0579483    3.85892456   3.39243375   2.9300941 ]\n"
     ]
    }
   ],
   "source": [
    "#find mean, and varience of training data for normalization\n",
    "directory = '/home/jovyan/work/VCTK-Corpus/train/wav'\n",
    "\n",
    "bar = progressbar.ProgressBar()\n",
    "n =0\n",
    "sum_mfcc = np.zeros(39) \n",
    "sumsq_mfcc = np.zeros(39)\n",
    "total_len = 0\n",
    "for file in bar(find_files(directory, pattern='**/*.wav')): \n",
    "    audio = mfcc(read_audio_from_filename(file, 16000),samplerate=16000,winlen=0.025,winstep=0.01,numcep=39,\n",
    "                 nfilt=40)\n",
    "\n",
    "    sum_mfcc += np.sum(audio, axis = 0)\n",
    "    sumsq_mfcc +=np.sum(audio*audio, axis = 0)\n",
    "    total_len += len(audio)\n",
    "    n += 1\n",
    "\n",
    "m = sum_mfcc/total_len\n",
    "v = sumsq_mfcc/(total_len-1) - m*m\n",
    "s = np.sqrt(v)\n",
    "\n",
    "print(m)\n",
    "print(v)\n",
    "print(s)\n"
   ]
  },
  {
   "cell_type": "code",
   "execution_count": 31,
   "metadata": {},
   "outputs": [
    {
     "name": "stdout",
     "output_type": "stream",
     "text": [
      "11916812\n"
     ]
    }
   ],
   "source": [
    "print(total_len)"
   ]
  },
  {
   "cell_type": "code",
   "execution_count": 12,
   "metadata": {
    "collapsed": true
   },
   "outputs": [],
   "source": [
    "SPACE_TOKEN = '<space>'\n",
    "SPACE_INDEX = 0\n",
    "FIRST_INDEX = ord('a') - 1 "
   ]
  },
  {
   "cell_type": "code",
   "execution_count": 13,
   "metadata": {
    "collapsed": true
   },
   "outputs": [],
   "source": [
    "Train_DIR = '/home/jovyan/work/MFCC_39_16khz/train/'\n",
    "directory = '/home/jovyan/work/VCTK-Corpus/train/'"
   ]
  },
  {
   "cell_type": "code",
   "execution_count": 14,
   "metadata": {},
   "outputs": [],
   "source": [
    "m = np.array([ -7.51332611e+00,  -4.00169070e+00,   7.40849740e-01,   9.76145029e+00,\n",
    "  -1.65544151e+00,   1.59567083e+00,  -1.26322944e+00,  -1.38907894e+00,\n",
    "   4.64418496e+00,   4.55213115e+00,   3.82397182e-01,   1.79470392e+00,\n",
    "  -2.83868887e+00,  -1.21074392e+00,  -4.97693218e+00,  -1.56840539e-01,\n",
    "  -1.03099064e+00,   1.28082167e+00,  -1.26283074e+00,   1.01066514e+00,\n",
    "   8.03630297e-02,   5.38606156e-01,  -8.57827423e-02,   3.32506741e-03,\n",
    "   1.97867405e-01,  -5.21774920e-01,   1.38001732e-02,  -1.08547029e+00,\n",
    "  -2.26743751e-02,  -2.90453150e-01,   4.93080491e-01,   1.72272966e-01,\n",
    "   8.09385140e-01,  -5.41125582e-01,   2.79285963e-01,  -6.73249785e-01,\n",
    "  -5.44239050e-04,  -9.24394111e-02,   3.01032922e-02])\n",
    "s = np.array([  4.29360655,  18.10366881,  21.26264487,  16.09721247,  21.34803941,\n",
    "  21.48511605,  20.27788793,  21.59427883,  17.7073008,   17.25001272,\n",
    "  15.28446241,  15.82809957,  14.09223369,  12.58728358,  11.68375343,\n",
    "  10.08500048,   8.14670718,   6.71022149,   5.63283549,   4.23743571,\n",
    "   3.0205074,    1.90752181,   0.71521341,   0.37545172,   1.37520613,\n",
    "   2.24487373,   3.03946431,   3.7460076,    4.17240994,   4.56583527,\n",
    "   4.83715023,   4.99518288,   5.02659311,   4.78371701,   4.3470543,\n",
    "   4.0579483,    3.85892456,   3.39243375,   2.9300941 ])"
   ]
  },
  {
   "cell_type": "code",
   "execution_count": 15,
   "metadata": {},
   "outputs": [
    {
     "name": "stderr",
     "output_type": "stream",
     "text": [
      "100% (34503 of 34503) |###################| Elapsed Time: 1:23:04 Time: 1:23:04\n"
     ]
    }
   ],
   "source": [
    "# Pickle Training data\n",
    "\n",
    "if not os.path.exists(Train_DIR):\n",
    "    os.makedirs(Train_DIR)\n",
    "    \n",
    "bar = progressbar.ProgressBar()\n",
    "for wav_path in bar(find_files(directory, pattern='**/*.wav')):\n",
    "    #print(wav_path)\n",
    "    speaker_ID = find_speaker_ID(wav_path)\n",
    "    #print(speaker_ID)\n",
    "    txt_path = return_txt_path(wav_path)\n",
    "    target, original = convert_txt_index(open(txt_path).read().strip())\n",
    "    inputs = convert_wav_mfcc(wav_path, 16000)\n",
    "    normalize_inputs = (inputs - m)/s\n",
    "    pack_data_npz(Train_DIR, normalize_inputs, target, speaker_ID, original)\n"
   ]
  },
  {
   "cell_type": "code",
   "execution_count": 19,
   "metadata": {},
   "outputs": [
    {
     "name": "stderr",
     "output_type": "stream",
     "text": [
      "100% (4312 of 4312) |#####################| Elapsed Time: 0:13:35 Time: 0:13:35\n"
     ]
    }
   ],
   "source": [
    "# Pickle Dev data\n",
    "\n",
    "DIR = '/home/jovyan/work/MFCC_39_16khz/dev/'\n",
    "directory = '/home/jovyan/work/VCTK-Corpus/dev/'\n",
    "\n",
    "if not os.path.exists(DIR):\n",
    "    os.makedirs(DIR)\n",
    "    \n",
    "bar = progressbar.ProgressBar()\n",
    "for wav_path in bar(find_files(directory, pattern='**/*.wav')):\n",
    "    #print(wav_path)\n",
    "    speaker_ID = find_speaker_ID(wav_path)\n",
    "    #print(speaker_ID)\n",
    "    txt_path = return_txt_path(wav_path)\n",
    "    target, original = convert_txt_index(open(txt_path).read().strip())\n",
    "    inputs = convert_wav_mfcc(wav_path, 16000)\n",
    "    normalize_inputs = (inputs - m)/s\n",
    "    pack_data_npz(DIR, normalize_inputs, target, speaker_ID, original)"
   ]
  },
  {
   "cell_type": "code",
   "execution_count": 20,
   "metadata": {},
   "outputs": [
    {
     "name": "stderr",
     "output_type": "stream",
     "text": [
      "100% (4283 of 4283) |#####################| Elapsed Time: 0:10:39 Time: 0:10:39\n"
     ]
    }
   ],
   "source": [
    "# Pickle Test data\n",
    "\n",
    "DIR = '/home/jovyan/work/MFCC_39_16khz/test/'\n",
    "directory = '/home/jovyan/work/VCTK-Corpus/test/'\n",
    "\n",
    "if not os.path.exists(DIR):\n",
    "    os.makedirs(DIR)\n",
    "    \n",
    "bar = progressbar.ProgressBar()\n",
    "for wav_path in bar(find_files(directory, pattern='**/*.wav')):\n",
    "    #print(wav_path)\n",
    "    speaker_ID = find_speaker_ID(wav_path)\n",
    "    #print(speaker_ID)\n",
    "    txt_path = return_txt_path(wav_path)\n",
    "    target, original = convert_txt_index(open(txt_path).read().strip())\n",
    "    inputs = convert_wav_mfcc(wav_path, 16000)\n",
    "    normalize_inputs = (inputs - m)/s\n",
    "    pack_data_npz(DIR, normalize_inputs, target, speaker_ID, original)"
   ]
  }
 ],
 "metadata": {
  "kernelspec": {
   "display_name": "Python 3",
   "language": "python",
   "name": "python3"
  },
  "language_info": {
   "codemirror_mode": {
    "name": "ipython",
    "version": 3
   },
   "file_extension": ".py",
   "mimetype": "text/x-python",
   "name": "python",
   "nbconvert_exporter": "python",
   "pygments_lexer": "ipython3",
   "version": "3.6.2"
  }
 },
 "nbformat": 4,
 "nbformat_minor": 2
}
